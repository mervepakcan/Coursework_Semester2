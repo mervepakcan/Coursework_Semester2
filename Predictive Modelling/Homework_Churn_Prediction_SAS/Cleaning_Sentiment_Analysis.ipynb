{
  "nbformat": 4,
  "nbformat_minor": 0,
  "metadata": {
    "colab": {
      "provenance": []
    },
    "kernelspec": {
      "name": "python3",
      "display_name": "Python 3"
    },
    "language_info": {
      "name": "python"
    }
  },
  "cells": [
    {
      "cell_type": "code",
      "execution_count": 7,
      "metadata": {
        "colab": {
          "base_uri": "https://localhost:8080/"
        },
        "id": "0XuvTGRoozqX",
        "outputId": "d583cfe8-7135-4f11-a10e-a11bbc653e01"
      },
      "outputs": [
        {
          "output_type": "stream",
          "name": "stdout",
          "text": [
            "Requirement already satisfied: emoji in /usr/local/lib/python3.11/dist-packages (2.14.1)\n",
            "Missing values per column:\n",
            "Unnamed: 0.1    0\n",
            "Unnamed: 0      0\n",
            "Text            0\n",
            "Sentiment       0\n",
            "Timestamp       0\n",
            "User            0\n",
            "Platform        0\n",
            "Hashtags        0\n",
            "Retweets        0\n",
            "Likes           0\n",
            "Country         0\n",
            "Year            0\n",
            "Month           0\n",
            "Day             0\n",
            "Hour            0\n",
            "dtype: int64\n"
          ]
        }
      ],
      "source": [
        "import pandas as pd\n",
        "import re\n",
        "!pip install emoji\n",
        "import emoji\n",
        "\n",
        "# Load dataset\n",
        "df = pd.read_csv(\"sentimentdataset.csv\")\n",
        "\n",
        "print(\"Missing values per column:\")\n",
        "print(df.isnull().sum())\n",
        "\n",
        "# Drop missing or empty text/sentiment\n",
        "df = df.dropna(subset=[\"Text\", \"Sentiment\"])\n",
        "df = df[df['Text'].str.strip() != \"\"]\n",
        "\n",
        "# Remove duplicate rows\n",
        "df = df.drop_duplicates(subset=[\"Text\", \"Sentiment\"])\n",
        "\n",
        "# Clean emojis and links\n",
        "def clean_text(text):\n",
        "    text = emoji.replace_emoji(text, replace='')  # Remove emojis\n",
        "    text = re.sub(r\"http\\S+|www.\\S+\", \"\", text)   # Remove links\n",
        "    return text.strip()\n",
        "\n",
        "df['Text'] = df['Text'].apply(clean_text)\n",
        "\n",
        "# Drop unnecessary index columns\n",
        "df = df.drop(columns=[\"Unnamed: 0\", \"Unnamed: 0.1\"], errors='ignore')\n",
        "\n",
        "# Strip whitespace in string columns\n",
        "if 'Platform' in df.columns:\n",
        "    df['Platform'] = df['Platform'].astype(str).str.strip()\n",
        "if 'Country' in df.columns:\n",
        "    df['Country'] = df['Country'].astype(str).str.strip()\n",
        "\n",
        "# Convert timestamp to datetime\n",
        "if 'Timestamp' in df.columns:\n",
        "    df['Timestamp'] = pd.to_datetime(df['Timestamp'], errors='coerce')\n",
        "\n",
        "# Save cleaned data\n",
        "df.to_csv(\"cleaned_sentiment.csv\", index=False)\n",
        "\n"
      ]
    }
  ]
}